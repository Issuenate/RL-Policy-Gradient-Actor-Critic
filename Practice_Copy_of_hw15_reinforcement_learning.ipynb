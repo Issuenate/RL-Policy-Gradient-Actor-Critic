{
  "nbformat": 4,
  "nbformat_minor": 0,
  "metadata": {
    "colab": {
      "name": "Practice-Copy of hw15_reinforcement_learning.ipynb",
      "provenance": [],
      "collapsed_sections": [],
      "toc_visible": true
    },
    "kernelspec": {
      "name": "python3",
      "display_name": "Python 3"
    },
    "widgets": {
      "application/vnd.jupyter.widget-state+json": {
        "8f9b7481174b4f56825e6a16e1f408ac": {
          "model_module": "@jupyter-widgets/controls",
          "model_name": "HBoxModel",
          "state": {
            "_view_name": "HBoxView",
            "_dom_classes": [],
            "_model_name": "HBoxModel",
            "_view_module": "@jupyter-widgets/controls",
            "_model_module_version": "1.5.0",
            "_view_count": null,
            "_view_module_version": "1.5.0",
            "box_style": "",
            "layout": "IPY_MODEL_0466b293c7c243d097c4f53387d8fdd3",
            "_model_module": "@jupyter-widgets/controls",
            "children": [
              "IPY_MODEL_f32441e46508411f98bdb84ab16acd64",
              "IPY_MODEL_c99919ed02ab42a39a353f750df864d8"
            ]
          }
        },
        "0466b293c7c243d097c4f53387d8fdd3": {
          "model_module": "@jupyter-widgets/base",
          "model_name": "LayoutModel",
          "state": {
            "_view_name": "LayoutView",
            "grid_template_rows": null,
            "right": null,
            "justify_content": null,
            "_view_module": "@jupyter-widgets/base",
            "overflow": null,
            "_model_module_version": "1.2.0",
            "_view_count": null,
            "flex_flow": null,
            "width": null,
            "min_width": null,
            "border": null,
            "align_items": null,
            "bottom": null,
            "_model_module": "@jupyter-widgets/base",
            "top": null,
            "grid_column": null,
            "overflow_y": null,
            "overflow_x": null,
            "grid_auto_flow": null,
            "grid_area": null,
            "grid_template_columns": null,
            "flex": null,
            "_model_name": "LayoutModel",
            "justify_items": null,
            "grid_row": null,
            "max_height": null,
            "align_content": null,
            "visibility": null,
            "align_self": null,
            "height": null,
            "min_height": null,
            "padding": null,
            "grid_auto_rows": null,
            "grid_gap": null,
            "max_width": null,
            "order": null,
            "_view_module_version": "1.2.0",
            "grid_template_areas": null,
            "object_position": null,
            "object_fit": null,
            "grid_auto_columns": null,
            "margin": null,
            "display": null,
            "left": null
          }
        },
        "f32441e46508411f98bdb84ab16acd64": {
          "model_module": "@jupyter-widgets/controls",
          "model_name": "IntProgressModel",
          "state": {
            "_view_name": "ProgressView",
            "style": "IPY_MODEL_aa5f29296d7f49849896cae5c0f8be17",
            "_dom_classes": [],
            "description": "Total:  2.9, Final:  0.0: 100%",
            "_model_name": "IntProgressModel",
            "bar_style": "success",
            "max": 1000,
            "_view_module": "@jupyter-widgets/controls",
            "_model_module_version": "1.5.0",
            "value": 1000,
            "_view_count": null,
            "_view_module_version": "1.5.0",
            "orientation": "horizontal",
            "min": 0,
            "description_tooltip": null,
            "_model_module": "@jupyter-widgets/controls",
            "layout": "IPY_MODEL_985129ba61e74452abab5d6e01c244ba"
          }
        },
        "c99919ed02ab42a39a353f750df864d8": {
          "model_module": "@jupyter-widgets/controls",
          "model_name": "HTMLModel",
          "state": {
            "_view_name": "HTMLView",
            "style": "IPY_MODEL_4cd27f386581488b96099eb887507cf8",
            "_dom_classes": [],
            "description": "",
            "_model_name": "HTMLModel",
            "placeholder": "​",
            "_view_module": "@jupyter-widgets/controls",
            "_model_module_version": "1.5.0",
            "value": " 1000/1000 [36:48&lt;00:00,  2.21s/it]",
            "_view_count": null,
            "_view_module_version": "1.5.0",
            "description_tooltip": null,
            "_model_module": "@jupyter-widgets/controls",
            "layout": "IPY_MODEL_c406ce74c8ac4dc88d6f43dbf99b02f5"
          }
        },
        "aa5f29296d7f49849896cae5c0f8be17": {
          "model_module": "@jupyter-widgets/controls",
          "model_name": "ProgressStyleModel",
          "state": {
            "_view_name": "StyleView",
            "_model_name": "ProgressStyleModel",
            "description_width": "initial",
            "_view_module": "@jupyter-widgets/base",
            "_model_module_version": "1.5.0",
            "_view_count": null,
            "_view_module_version": "1.2.0",
            "bar_color": null,
            "_model_module": "@jupyter-widgets/controls"
          }
        },
        "985129ba61e74452abab5d6e01c244ba": {
          "model_module": "@jupyter-widgets/base",
          "model_name": "LayoutModel",
          "state": {
            "_view_name": "LayoutView",
            "grid_template_rows": null,
            "right": null,
            "justify_content": null,
            "_view_module": "@jupyter-widgets/base",
            "overflow": null,
            "_model_module_version": "1.2.0",
            "_view_count": null,
            "flex_flow": null,
            "width": null,
            "min_width": null,
            "border": null,
            "align_items": null,
            "bottom": null,
            "_model_module": "@jupyter-widgets/base",
            "top": null,
            "grid_column": null,
            "overflow_y": null,
            "overflow_x": null,
            "grid_auto_flow": null,
            "grid_area": null,
            "grid_template_columns": null,
            "flex": null,
            "_model_name": "LayoutModel",
            "justify_items": null,
            "grid_row": null,
            "max_height": null,
            "align_content": null,
            "visibility": null,
            "align_self": null,
            "height": null,
            "min_height": null,
            "padding": null,
            "grid_auto_rows": null,
            "grid_gap": null,
            "max_width": null,
            "order": null,
            "_view_module_version": "1.2.0",
            "grid_template_areas": null,
            "object_position": null,
            "object_fit": null,
            "grid_auto_columns": null,
            "margin": null,
            "display": null,
            "left": null
          }
        },
        "4cd27f386581488b96099eb887507cf8": {
          "model_module": "@jupyter-widgets/controls",
          "model_name": "DescriptionStyleModel",
          "state": {
            "_view_name": "StyleView",
            "_model_name": "DescriptionStyleModel",
            "description_width": "",
            "_view_module": "@jupyter-widgets/base",
            "_model_module_version": "1.5.0",
            "_view_count": null,
            "_view_module_version": "1.2.0",
            "_model_module": "@jupyter-widgets/controls"
          }
        },
        "c406ce74c8ac4dc88d6f43dbf99b02f5": {
          "model_module": "@jupyter-widgets/base",
          "model_name": "LayoutModel",
          "state": {
            "_view_name": "LayoutView",
            "grid_template_rows": null,
            "right": null,
            "justify_content": null,
            "_view_module": "@jupyter-widgets/base",
            "overflow": null,
            "_model_module_version": "1.2.0",
            "_view_count": null,
            "flex_flow": null,
            "width": null,
            "min_width": null,
            "border": null,
            "align_items": null,
            "bottom": null,
            "_model_module": "@jupyter-widgets/base",
            "top": null,
            "grid_column": null,
            "overflow_y": null,
            "overflow_x": null,
            "grid_auto_flow": null,
            "grid_area": null,
            "grid_template_columns": null,
            "flex": null,
            "_model_name": "LayoutModel",
            "justify_items": null,
            "grid_row": null,
            "max_height": null,
            "align_content": null,
            "visibility": null,
            "align_self": null,
            "height": null,
            "min_height": null,
            "padding": null,
            "grid_auto_rows": null,
            "grid_gap": null,
            "max_width": null,
            "order": null,
            "_view_module_version": "1.2.0",
            "grid_template_areas": null,
            "object_position": null,
            "object_fit": null,
            "grid_auto_columns": null,
            "margin": null,
            "display": null,
            "left": null
          }
        },
        "18bdb55f1db540929255743133194e21": {
          "model_module": "@jupyter-widgets/controls",
          "model_name": "HBoxModel",
          "state": {
            "_view_name": "HBoxView",
            "_dom_classes": [],
            "_model_name": "HBoxModel",
            "_view_module": "@jupyter-widgets/controls",
            "_model_module_version": "1.5.0",
            "_view_count": null,
            "_view_module_version": "1.5.0",
            "box_style": "",
            "layout": "IPY_MODEL_fe5c48dbcedf4569928c9d840f57ea58",
            "_model_module": "@jupyter-widgets/controls",
            "children": [
              "IPY_MODEL_1c3634a22c7b45f180206b249ee9ace9",
              "IPY_MODEL_16d3a99c33f6495ab6b31c0ad95f208a"
            ]
          }
        },
        "fe5c48dbcedf4569928c9d840f57ea58": {
          "model_module": "@jupyter-widgets/base",
          "model_name": "LayoutModel",
          "state": {
            "_view_name": "LayoutView",
            "grid_template_rows": null,
            "right": null,
            "justify_content": null,
            "_view_module": "@jupyter-widgets/base",
            "overflow": null,
            "_model_module_version": "1.2.0",
            "_view_count": null,
            "flex_flow": null,
            "width": null,
            "min_width": null,
            "border": null,
            "align_items": null,
            "bottom": null,
            "_model_module": "@jupyter-widgets/base",
            "top": null,
            "grid_column": null,
            "overflow_y": null,
            "overflow_x": null,
            "grid_auto_flow": null,
            "grid_area": null,
            "grid_template_columns": null,
            "flex": null,
            "_model_name": "LayoutModel",
            "justify_items": null,
            "grid_row": null,
            "max_height": null,
            "align_content": null,
            "visibility": null,
            "align_self": null,
            "height": null,
            "min_height": null,
            "padding": null,
            "grid_auto_rows": null,
            "grid_gap": null,
            "max_width": null,
            "order": null,
            "_view_module_version": "1.2.0",
            "grid_template_areas": null,
            "object_position": null,
            "object_fit": null,
            "grid_auto_columns": null,
            "margin": null,
            "display": null,
            "left": null
          }
        },
        "1c3634a22c7b45f180206b249ee9ace9": {
          "model_module": "@jupyter-widgets/controls",
          "model_name": "IntProgressModel",
          "state": {
            "_view_name": "ProgressView",
            "style": "IPY_MODEL_9fef61105e8d4c2aabd70b0218ac4116",
            "_dom_classes": [],
            "description": "Total: -33.6, Final: -20.1: 100%",
            "_model_name": "IntProgressModel",
            "bar_style": "success",
            "max": 1000,
            "_view_module": "@jupyter-widgets/controls",
            "_model_module_version": "1.5.0",
            "value": 1000,
            "_view_count": null,
            "_view_module_version": "1.5.0",
            "orientation": "horizontal",
            "min": 0,
            "description_tooltip": null,
            "_model_module": "@jupyter-widgets/controls",
            "layout": "IPY_MODEL_8f45c56616c448c289433715a2d8699b"
          }
        },
        "16d3a99c33f6495ab6b31c0ad95f208a": {
          "model_module": "@jupyter-widgets/controls",
          "model_name": "HTMLModel",
          "state": {
            "_view_name": "HTMLView",
            "style": "IPY_MODEL_2d350b2c129347fe932bbc31b2a7d09d",
            "_dom_classes": [],
            "description": "",
            "_model_name": "HTMLModel",
            "placeholder": "​",
            "_view_module": "@jupyter-widgets/controls",
            "_model_module_version": "1.5.0",
            "value": " 1000/1000 [1:20:14&lt;00:00,  4.81s/it]",
            "_view_count": null,
            "_view_module_version": "1.5.0",
            "description_tooltip": null,
            "_model_module": "@jupyter-widgets/controls",
            "layout": "IPY_MODEL_7a4d72057d964dc89c2bae78bd7c784f"
          }
        },
        "9fef61105e8d4c2aabd70b0218ac4116": {
          "model_module": "@jupyter-widgets/controls",
          "model_name": "ProgressStyleModel",
          "state": {
            "_view_name": "StyleView",
            "_model_name": "ProgressStyleModel",
            "description_width": "initial",
            "_view_module": "@jupyter-widgets/base",
            "_model_module_version": "1.5.0",
            "_view_count": null,
            "_view_module_version": "1.2.0",
            "bar_color": null,
            "_model_module": "@jupyter-widgets/controls"
          }
        },
        "8f45c56616c448c289433715a2d8699b": {
          "model_module": "@jupyter-widgets/base",
          "model_name": "LayoutModel",
          "state": {
            "_view_name": "LayoutView",
            "grid_template_rows": null,
            "right": null,
            "justify_content": null,
            "_view_module": "@jupyter-widgets/base",
            "overflow": null,
            "_model_module_version": "1.2.0",
            "_view_count": null,
            "flex_flow": null,
            "width": null,
            "min_width": null,
            "border": null,
            "align_items": null,
            "bottom": null,
            "_model_module": "@jupyter-widgets/base",
            "top": null,
            "grid_column": null,
            "overflow_y": null,
            "overflow_x": null,
            "grid_auto_flow": null,
            "grid_area": null,
            "grid_template_columns": null,
            "flex": null,
            "_model_name": "LayoutModel",
            "justify_items": null,
            "grid_row": null,
            "max_height": null,
            "align_content": null,
            "visibility": null,
            "align_self": null,
            "height": null,
            "min_height": null,
            "padding": null,
            "grid_auto_rows": null,
            "grid_gap": null,
            "max_width": null,
            "order": null,
            "_view_module_version": "1.2.0",
            "grid_template_areas": null,
            "object_position": null,
            "object_fit": null,
            "grid_auto_columns": null,
            "margin": null,
            "display": null,
            "left": null
          }
        },
        "2d350b2c129347fe932bbc31b2a7d09d": {
          "model_module": "@jupyter-widgets/controls",
          "model_name": "DescriptionStyleModel",
          "state": {
            "_view_name": "StyleView",
            "_model_name": "DescriptionStyleModel",
            "description_width": "",
            "_view_module": "@jupyter-widgets/base",
            "_model_module_version": "1.5.0",
            "_view_count": null,
            "_view_module_version": "1.2.0",
            "_model_module": "@jupyter-widgets/controls"
          }
        },
        "7a4d72057d964dc89c2bae78bd7c784f": {
          "model_module": "@jupyter-widgets/base",
          "model_name": "LayoutModel",
          "state": {
            "_view_name": "LayoutView",
            "grid_template_rows": null,
            "right": null,
            "justify_content": null,
            "_view_module": "@jupyter-widgets/base",
            "overflow": null,
            "_model_module_version": "1.2.0",
            "_view_count": null,
            "flex_flow": null,
            "width": null,
            "min_width": null,
            "border": null,
            "align_items": null,
            "bottom": null,
            "_model_module": "@jupyter-widgets/base",
            "top": null,
            "grid_column": null,
            "overflow_y": null,
            "overflow_x": null,
            "grid_auto_flow": null,
            "grid_area": null,
            "grid_template_columns": null,
            "flex": null,
            "_model_name": "LayoutModel",
            "justify_items": null,
            "grid_row": null,
            "max_height": null,
            "align_content": null,
            "visibility": null,
            "align_self": null,
            "height": null,
            "min_height": null,
            "padding": null,
            "grid_auto_rows": null,
            "grid_gap": null,
            "max_width": null,
            "order": null,
            "_view_module_version": "1.2.0",
            "grid_template_areas": null,
            "object_position": null,
            "object_fit": null,
            "grid_auto_columns": null,
            "margin": null,
            "display": null,
            "left": null
          }
        }
      }
    }
  },
  "cells": [
    {
      "cell_type": "markdown",
      "metadata": {
        "id": "Fp30SB4bxeQb",
        "colab_type": "text"
      },
      "source": [
        "# **Homework 15 - Reinforcement Learning**\n",
        "\n",
        "若有任何問題，歡迎來信至助教信箱 ntu-ml-2020spring-ta@googlegroups.com\n",
        "\n"
      ]
    },
    {
      "cell_type": "markdown",
      "metadata": {
        "id": "yXsnCWPtWSNk",
        "colab_type": "text"
      },
      "source": [
        "## 前置作業\n",
        "\n",
        "首先我們需要安裝必要的系統套件及 PyPi 套件。\n",
        "gym 這個套件由 OpenAI 所提供，是一套用來開發與比較 Reinforcement Learning 演算法的工具包（toolkit）。\n",
        "而其餘套件則是為了在 Notebook 中繪圖所需要的套件。"
      ]
    },
    {
      "cell_type": "code",
      "metadata": {
        "id": "5e2bScpnkVbv",
        "colab_type": "code",
        "colab": {}
      },
      "source": [
        "%%capture\n",
        "!apt update\n",
        "!apt install python-opengl xvfb -y\n",
        "!pip install gym[box2d] pyvirtualdisplay piglet tqdm"
      ],
      "execution_count": 0,
      "outputs": []
    },
    {
      "cell_type": "markdown",
      "metadata": {
        "id": "M_-i3cdoYsks",
        "colab_type": "text"
      },
      "source": [
        "接下來，設置好 virtual display，並引入所有必要的套件。"
      ]
    },
    {
      "cell_type": "code",
      "metadata": {
        "id": "nl2nREINDLiw",
        "colab_type": "code",
        "colab": {}
      },
      "source": [
        "%%capture\n",
        "from pyvirtualdisplay import Display\n",
        "virtual_display = Display(visible=0, size=(1400, 900))\n",
        "virtual_display.start()\n",
        "\n",
        "%matplotlib inline\n",
        "import matplotlib.pyplot as plt\n",
        "\n",
        "from IPython import display\n",
        "import sys\n",
        "import numpy as np\n",
        "import torch\n",
        "import torch.nn as nn\n",
        "import torch.optim as optim\n",
        "import torch.nn.functional as F\n",
        "from torch.distributions import Categorical\n",
        "from tqdm import tqdm_notebook"
      ],
      "execution_count": 0,
      "outputs": []
    },
    {
      "cell_type": "markdown",
      "metadata": {
        "id": "He0XDx6bzjgC",
        "colab_type": "text"
      },
      "source": [
        "最後，引入 OpenAI 的 gym，並建立一個 [Lunar Lander](https://gym.openai.com/envs/LunarLander-v2/) 環境。"
      ]
    },
    {
      "cell_type": "code",
      "metadata": {
        "id": "N_4-xJcbBt09",
        "colab_type": "code",
        "colab": {}
      },
      "source": [
        "%%capture\n",
        "import gym\n",
        "env = gym.make('LunarLander-v2')"
      ],
      "execution_count": 0,
      "outputs": []
    },
    {
      "cell_type": "markdown",
      "metadata": {
        "id": "NrkVvTrvWZ5H",
        "colab_type": "text"
      },
      "source": [
        "## 什麼是 Lunar Lander？\n",
        "\n",
        "“LunarLander-v2” 這個環境是在模擬登月小艇降落在月球表面時的情形。\n",
        "這個任務的目標是讓登月小艇「安全地」降落在兩個黃色旗幟間的平地上。\n",
        "> Landing pad is always at coordinates (0,0).\n",
        "> Coordinates are the first two numbers in state vector.\n",
        "\n",
        "![](https://gym.openai.com/assets/docs/aeloop-138c89d44114492fd02822303e6b4b07213010bb14ca5856d2d49d6b62d88e53.svg)\n",
        "\n",
        "所謂的「環境」其實同時包括了 agent 和 environment。\n",
        "我們利用 `step()` 這個函式讓 agent 行動，而後函式便會回傳 environment 給予的 observation/state（以下這兩個名詞代表同樣的意思）和 reward。"
      ]
    },
    {
      "cell_type": "markdown",
      "metadata": {
        "id": "bIbp82sljvAt",
        "colab_type": "text"
      },
      "source": [
        "### Observation / State\n",
        "\n",
        "首先，我們可以看看 environment 回傳給 agent 的 observation 究竟是長什麼樣子的資料："
      ]
    },
    {
      "cell_type": "code",
      "metadata": {
        "id": "rsXZra3N9R5T",
        "colab_type": "code",
        "outputId": "11e02a8c-081b-4be3-b960-8520bbcbc61b",
        "colab": {
          "base_uri": "https://localhost:8080/",
          "height": 36
        }
      },
      "source": [
        "print(env.observation_space)"
      ],
      "execution_count": 0,
      "outputs": [
        {
          "output_type": "stream",
          "text": [
            "Box(8,)\n"
          ],
          "name": "stdout"
        }
      ]
    },
    {
      "cell_type": "markdown",
      "metadata": {
        "id": "ezdfoThbAQ49",
        "colab_type": "text"
      },
      "source": [
        "`Box(8,)` 說明我們會拿到 8 維的向量作為 observation，其中包含：垂直及水平座標、速度、角度、加速度等等，這部分我們就不細說。\n",
        "\n",
        "### Action\n",
        "\n",
        "而在 agent 得到 observation 和 reward 以後，能夠採取的動作有："
      ]
    },
    {
      "cell_type": "code",
      "metadata": {
        "id": "p1k4dIrBAaKi",
        "colab_type": "code",
        "colab": {}
      },
      "source": [
        "print(env.action_space)"
      ],
      "execution_count": 0,
      "outputs": []
    },
    {
      "cell_type": "markdown",
      "metadata": {
        "id": "dejXT6PHBrPn",
        "colab_type": "text"
      },
      "source": [
        "`Discrete(4)` 說明 agent 可以採取四種離散的行動：\n",
        "- 0 代表不採取任何行動\n",
        "- 2 代表主引擎向下噴射\n",
        "- 1, 3 則是向左右噴射\n",
        "\n",
        "接下來，我們嘗試讓 agent 與 environment 互動。\n",
        "在進行任何操作前，建議先呼叫 `reset()` 函式讓整個「環境」重置。\n",
        "而這個函式同時會回傳「環境」最初始的狀態。"
      ]
    },
    {
      "cell_type": "code",
      "metadata": {
        "id": "pi4OmrmZgnWA",
        "colab_type": "code",
        "outputId": "8c803a67-f442-49e9-899d-6d823424e93c",
        "colab": {
          "base_uri": "https://localhost:8080/",
          "height": 55
        }
      },
      "source": [
        "initial_state = env.reset()\n",
        "print(initial_state)"
      ],
      "execution_count": 0,
      "outputs": [
        {
          "output_type": "stream",
          "text": [
            "[ 5.70487988e-04  1.40187120e+00  5.77640310e-02 -4.02172953e-01\n",
            " -6.54205796e-04 -1.30843995e-02  0.00000000e+00  0.00000000e+00]\n"
          ],
          "name": "stdout"
        }
      ]
    },
    {
      "cell_type": "markdown",
      "metadata": {
        "id": "uBx0mEqqgxJ9",
        "colab_type": "text"
      },
      "source": [
        "接著，我們試著從 agent 的四種行動空間中，隨機採取一個行動"
      ]
    },
    {
      "cell_type": "code",
      "metadata": {
        "id": "vxkOEXRKgizt",
        "colab_type": "code",
        "outputId": "8d940d17-c694-4b6d-f540-b7ad2f3619e3",
        "colab": {
          "base_uri": "https://localhost:8080/",
          "height": 36
        }
      },
      "source": [
        "random_action = env.action_space.sample()\n",
        "print(random_action)"
      ],
      "execution_count": 0,
      "outputs": [
        {
          "output_type": "stream",
          "text": [
            "3\n"
          ],
          "name": "stdout"
        }
      ]
    },
    {
      "cell_type": "markdown",
      "metadata": {
        "id": "mns-bO01g0-J",
        "colab_type": "text"
      },
      "source": [
        "再利用 `step()` 函式讓 agent 根據我們隨機抽樣出來的 `random_action` 動作。\n",
        "而這個函式會回傳四項資訊：\n",
        "- observation / state\n",
        "- reward\n",
        "- 完成與否\n",
        "- 其餘資訊"
      ]
    },
    {
      "cell_type": "code",
      "metadata": {
        "id": "E_WViSxGgIk9",
        "colab_type": "code",
        "colab": {}
      },
      "source": [
        "observation, reward, done, info = env.step(random_action)"
      ],
      "execution_count": 0,
      "outputs": []
    },
    {
      "cell_type": "markdown",
      "metadata": {
        "id": "FdieGq7NuBIm",
        "colab_type": "text"
      },
      "source": [
        "第一項資訊 `observation` 即為 agent 採取行動之後，agent 對於環境的 observation 或者說環境的 state 為何。\n",
        "而第三項資訊 `done` 則是 `True` 或 `False` 的布林值，當登月小艇成功著陸或是不幸墜毀時，代表這個回合（episode）也就跟著結束了，此時 `step()` 函式便會回傳 `done = True`，而在那之前，`done` 則保持 `False`。"
      ]
    },
    {
      "cell_type": "code",
      "metadata": {
        "id": "yK7r126kuCNp",
        "colab_type": "code",
        "colab": {}
      },
      "source": [
        "print(done)"
      ],
      "execution_count": 0,
      "outputs": []
    },
    {
      "cell_type": "markdown",
      "metadata": {
        "id": "GKdS8vOihxhc",
        "colab_type": "text"
      },
      "source": [
        "### Reward\n",
        "\n",
        "而「環境」給予的 reward 大致是這樣計算：\n",
        "- 小艇墜毀得到 -100 分\n",
        "- 小艇在黃旗幟之間成功著地則得 100~140 分\n",
        "- 噴射主引擎（向下噴火）每次 -0.3 分\n",
        "- 小艇最終完全靜止則再得 100 分\n",
        "\n",
        "> Reward for moving from the top of the screen to landing pad and zero speed is about 100..140 points.\n",
        "> If lander moves away from landing pad it loses reward back.\n",
        "> Episode finishes if the lander crashes or comes to rest, receiving additional -100 or +100 points.\n",
        "> Each leg ground contact is +10.\n",
        "> Firing main engine is -0.3 points each frame.\n",
        "> Solved is 200 points."
      ]
    },
    {
      "cell_type": "code",
      "metadata": {
        "id": "vxQNs77hi0_7",
        "colab_type": "code",
        "colab": {}
      },
      "source": [
        "print(reward)"
      ],
      "execution_count": 0,
      "outputs": []
    },
    {
      "cell_type": "markdown",
      "metadata": {
        "id": "Mhqp6D-XgHpe",
        "colab_type": "text"
      },
      "source": [
        "### Random Agent\n",
        "\n",
        "最後，在進入實做之前，我們就來看看這樣一個 random agent 能否成功登陸月球："
      ]
    },
    {
      "cell_type": "code",
      "metadata": {
        "id": "Y3G0bxoccelv",
        "colab_type": "code",
        "outputId": "de958cc5-9478-4e9c-bd83-ac447d6c739d",
        "colab": {
          "base_uri": "https://localhost:8080/",
          "height": 269
        }
      },
      "source": [
        "env.reset()\n",
        "\n",
        "img = plt.imshow(env.render(mode='rgb_array'))\n",
        "\n",
        "done = False\n",
        "while not done:\n",
        "    action = env.action_space.sample()\n",
        "    observation, reward, done, _ = env.step(action)\n",
        "\n",
        "    img.set_data(env.render(mode='rgb_array'))\n",
        "    display.display(plt.gcf())\n",
        "    display.clear_output(wait=True)"
      ],
      "execution_count": 0,
      "outputs": [
        {
          "output_type": "display_data",
          "data": {
            "image/png": "[encoded data removed]",
            "text/plain": [
              "<Figure size 432x288 with 1 Axes>"
            ]
          },
          "metadata": {
            "tags": []
          }
        }
      ]
    },
    {
      "cell_type": "markdown",
      "metadata": {
        "id": "F5paWqo7tWL2",
        "colab_type": "text"
      },
      "source": [
        "## Policy Gradient\n",
        "\n",
        "現在來搭建一個簡單的 policy network。\n",
        "我們預設模型的輸入是 8-dim 的 observation，輸出則是離散的四個動作之一："
      ]
    },
    {
      "cell_type": "code",
      "metadata": {
        "id": "J8tdmeD-tZew",
        "colab_type": "code",
        "colab": {}
      },
      "source": [
        "class PolicyGradientNetwork(nn.Module):\n",
        "\n",
        "    def __init__(self):\n",
        "        super().__init__()\n",
        "        self.fc1 = nn.Linear(8, 16)\n",
        "        self.fc2 = nn.Linear(16, 16)        \n",
        "        self.fc3 = nn.Linear(16, 4)\n",
        "    def forward(self, state):\n",
        "        hid = torch.tanh(self.fc1(state))\n",
        "        hid = torch.tanh(self.fc2(hid))\n",
        "        return F.softmax(self.fc3(hid), dim=-1)"
      ],
      "execution_count": 0,
      "outputs": []
    },
    {
      "cell_type": "markdown",
      "metadata": {
        "id": "-bNJkjyvXZX5",
        "colab_type": "text"
      },
      "source": [
        "Critic Network"
      ]
    },
    {
      "cell_type": "code",
      "metadata": {
        "id": "G6kt97hNXYfp",
        "colab_type": "code",
        "colab": {}
      },
      "source": [
        "class PolicyGradientCriticNetwork(nn.Module):\n",
        "\n",
        "    def __init__(self):\n",
        "        super().__init__()\n",
        "        self.fc1 = nn.Linear(8, 16)\n",
        "        self.fc2 = nn.Linear(16, 16)        \n",
        "        self.fc3 = nn.Linear(16, 1)\n",
        "    def forward(self, state):\n",
        "        hid = torch.tanh(self.fc1(state))\n",
        "        hid = torch.tanh(self.fc2(hid))\n",
        "        value= self.fc3(hid)\n",
        "        return value"
      ],
      "execution_count": 0,
      "outputs": []
    },
    {
      "cell_type": "markdown",
      "metadata": {
        "id": "ynbqJrhIFTC3",
        "colab_type": "text"
      },
      "source": [
        "再來，搭建一個簡單的 agent，並搭配上方的 policy network 來採取行動。\n",
        "這個 agent 能做到以下幾件事：\n",
        "- `learn()`：從記下來的 log probabilities 及 rewards 來更新 policy network。\n",
        "- `sample()`：從 environment 得到 observation 之後，利用 policy network 得出應該採取的行動。\n",
        "而此函式除了回傳抽樣出來的 action，也會回傳此次抽樣的 log probabilities。"
      ]
    },
    {
      "cell_type": "code",
      "metadata": {
        "id": "zZo-IxJx286z",
        "colab_type": "code",
        "colab": {}
      },
      "source": [
        "class PolicyGradientAgent():\n",
        "\n",
        "    def __init__(self, network):\n",
        "        self.network = network\n",
        "        self.optimizer = optim.SGD(self.network.parameters(), lr=0.001)\n",
        "\n",
        "    def learn(self, log_probs, rewards):\n",
        "        loss = (-log_probs * rewards).sum()\n",
        "\n",
        "        self.optimizer.zero_grad()\n",
        "        loss.backward(retain_graph=True)\n",
        "        self.optimizer.step()\n",
        "\n",
        "    def sample(self, state):\n",
        "        action_prob = self.network(torch.FloatTensor(state))\n",
        "        action_dist = Categorical(action_prob)\n",
        "        action = action_dist.sample()\n",
        "        log_prob = action_dist.log_prob(action)\n",
        "        return action.item(), log_prob\n",
        "\n",
        "class PolicyGradient_critic_Agent():\n",
        "\n",
        "    def __init__(self, network):\n",
        "        self.network = network\n",
        "        self.optimizer = optim.SGD(self.network.parameters(), lr=0.001)\n",
        "    def value(self, state):\n",
        "        action_Q_value = self.network(torch.FloatTensor(state))        \n",
        "        return action_Q_value\n",
        "    def critic_learn(self, advantages):\n",
        "      \n",
        "        loss = (advantages*advantages).sum()\n",
        "        self.optimizer.zero_grad()\n",
        "        loss.backward()\n",
        "        self.optimizer.step()"
      ],
      "execution_count": 0,
      "outputs": []
    },
    {
      "cell_type": "markdown",
      "metadata": {
        "id": "ehPlnTKyRZf9",
        "colab_type": "text"
      },
      "source": [
        "最後，建立一個 network 和 agent，就可以開始進行訓練了。"
      ]
    },
    {
      "cell_type": "code",
      "metadata": {
        "id": "GfJIvML-RYjL",
        "colab_type": "code",
        "colab": {}
      },
      "source": [
        "actor = PolicyGradientNetwork()\n",
        "critic = PolicyGradientCriticNetwork()\n",
        "agent = PolicyGradientAgent(actor)\n",
        "critic_agent = PolicyGradient_critic_Agent(critic)"
      ],
      "execution_count": 0,
      "outputs": []
    },
    {
      "cell_type": "markdown",
      "metadata": {
        "id": "ouv23glgf5Qt",
        "colab_type": "text"
      },
      "source": [
        "## 訓練 Agent\n",
        "\n",
        "現在我們開始訓練 agent。\n",
        "透過讓 agent 和 environment 互動，我們記住每一組對應的 log probabilities 及 reward，並在成功登陸或者不幸墜毀後，回放這些「記憶」來訓練 policy network。"
      ]
    },
    {
      "cell_type": "code",
      "metadata": {
        "id": "vg5rxBBaf38_",
        "colab_type": "code",
        "outputId": "b3ec3805-a393-4f8f-ad41-79148a2d4d23",
        "colab": {
          "base_uri": "https://localhost:8080/",
          "height": 94,
          "referenced_widgets": [
            "8f9b7481174b4f56825e6a16e1f408ac",
            "0466b293c7c243d097c4f53387d8fdd3",
            "f32441e46508411f98bdb84ab16acd64",
            "c99919ed02ab42a39a353f750df864d8",
            "aa5f29296d7f49849896cae5c0f8be17",
            "985129ba61e74452abab5d6e01c244ba",
            "4cd27f386581488b96099eb887507cf8",
            "c406ce74c8ac4dc88d6f43dbf99b02f5"
          ]
        }
      },
      "source": [
        "agent.network.train()  # 訓練前，先確保 network 處在 training 模式\n",
        "EPISODE_PER_BATCH = 5  # 每蒐集 5 個 episodes 更新一次 agent\n",
        "NUM_BATCH = 1000        # 總共更新 400 次\n",
        "\n",
        "avg_total_rewards, avg_final_rewards = [], []\n",
        "\n",
        "prg_bar = tqdm_notebook(range(NUM_BATCH))\n",
        "for batch in prg_bar:\n",
        "\n",
        "    log_probs, rewards = [], []\n",
        "    total_rewards, final_rewards = [], []\n",
        "    rewards1 = []\n",
        "    # 蒐集訓練資料\n",
        "    for episode in range(EPISODE_PER_BATCH):\n",
        "        \n",
        "        state = env.reset()\n",
        "        total_reward, total_step = 0, 0\n",
        "        current_totoal_rewards = []\n",
        "        while True:\n",
        "\n",
        "            action, log_prob = agent.sample(state)\n",
        "            next_state, reward, done, _ = env.step(action)\n",
        "            \n",
        "            log_probs.append(log_prob)\n",
        "            state = next_state\n",
        "            current_totoal_rewards.append(total_reward)\n",
        "            total_reward += pow(0.98,total_step)*reward# from action 1\n",
        "\n",
        "            total_step += 1\n",
        "            \n",
        "            if done:\n",
        "                final_rewards.append(reward)\n",
        "                total_rewards.append(total_reward)\n",
        "\n",
        "                for i in range(total_step):                  \n",
        "                  rewards.append((total_reward-current_totoal_rewards[i])/(pow(0.98,i)))\n",
        "\n",
        "                break\n",
        "    \n",
        "   \n",
        "    # 紀錄訓練過程\n",
        "    avg_total_reward = sum(total_rewards) / len(total_rewards)\n",
        "    avg_final_reward = sum(final_rewards) / len(final_rewards)\n",
        "    avg_total_rewards.append(avg_total_reward)\n",
        "    avg_final_rewards.append(avg_final_reward)\n",
        "    prg_bar.set_description(f\"Total: {avg_total_reward: 4.1f}, Final: {avg_final_reward: 4.1f}\")\n",
        "    \n",
        "    # 更新網路\n",
        "    #rewards1 = np.concatenate(rewards1, axis=0)\n",
        "    rewards=np.asarray(rewards)\n",
        "    expected_average_rewards=sum(np.array(log_probs)*rewards)/ len(total_rewards)\n",
        "    \n",
        "    rewards=torch.from_numpy(rewards)-(expected_average_rewards)\n",
        "    rewards=rewards.detach().numpy()   \n",
        "    rewards = (rewards - np.mean(rewards)) / (np.std(rewards) + 1e-9)  # 將 reward 正規標準化\n",
        "     \n",
        "    agent.learn(torch.stack(log_probs), torch.from_numpy(rewards))"
      ],
      "execution_count": 0,
      "outputs": [
        {
          "output_type": "stream",
          "text": [
            "/usr/local/lib/python3.6/dist-packages/ipykernel_launcher.py:7: TqdmDeprecationWarning: This function will be removed in tqdm==5.0.0\n",
            "Please use `tqdm.notebook.tqdm` instead of `tqdm.tqdm_notebook`\n",
            "  import sys\n"
          ],
          "name": "stderr"
        },
        {
          "output_type": "display_data",
          "data": {
            "application/vnd.jupyter.widget-view+json": {
              "model_id": "8f9b7481174b4f56825e6a16e1f408ac",
              "version_minor": 0,
              "version_major": 2
            },
            "text/plain": [
              "HBox(children=(IntProgress(value=0, max=1000), HTML(value='')))"
            ]
          },
          "metadata": {
            "tags": []
          }
        },
        {
          "output_type": "stream",
          "text": [
            "\n"
          ],
          "name": "stdout"
        }
      ]
    },
   
    {
      "cell_type": "markdown",
      "metadata": {
        "id": "-4Hg10-s2o8u",
        "colab_type": "text"
      },
      "source": [
        "\n",
        "\n",
        "\n",
        "Actor-critic(MC)\n",
        "\n"
      ]
    },
    {
      "cell_type": "code",
      "metadata": {
        "id": "fqWCagGB2mEs",
        "colab_type": "code",
        "outputId": "0f01ab6b-0697-4a39-9aa2-4991be10ea37",
        "colab": {
          "base_uri": "https://localhost:8080/",
          "height": 144,
          "referenced_widgets": [
            "18bdb55f1db540929255743133194e21",
            "fe5c48dbcedf4569928c9d840f57ea58",
            "1c3634a22c7b45f180206b249ee9ace9",
            "16d3a99c33f6495ab6b31c0ad95f208a",
            "9fef61105e8d4c2aabd70b0218ac4116",
            "8f45c56616c448c289433715a2d8699b",
            "2d350b2c129347fe932bbc31b2a7d09d",
            "7a4d72057d964dc89c2bae78bd7c784f"
          ]
        }
      },
      "source": [
        "agent.network.train()  # 訓練前，先確保 network 處在 training 模式\n",
        "EPISODE_PER_BATCH = 5  # 每蒐集 5 個 episodes 更新一次 agent\n",
        "NUM_BATCH = 1000        # 總共更新 400 次\n",
        "\n",
        "avg_total_rewards, avg_final_rewards = [], []\n",
        "\n",
        "prg_bar = tqdm_notebook(range(NUM_BATCH))\n",
        "for batch in prg_bar:\n",
        "\n",
        "    log_probs, rewards = [], []\n",
        "    total_rewards, final_rewards = [], []\n",
        "    rewards1 = []\n",
        "    advantages = []\n",
        "    critic_values = []\n",
        "    # 蒐集訓練資料\n",
        "    for episode in range(EPISODE_PER_BATCH):\n",
        "        \n",
        "        state = env.reset()\n",
        "        total_reward, total_step = 0, 0\n",
        "        current_totoal_rewards = []\n",
        "        total_critic_reward = 0\n",
        "        current_totoal_critic_rewards = []\n",
        "        while True:\n",
        "\n",
        "            action, log_prob = agent.sample(state)\n",
        "            \n",
        "            next_state, reward, done, _ = env.step(action)\n",
        "            critic_reward = critic_agent.value(state)#use critic to get a estimated reward\n",
        "            log_probs.append(log_prob)\n",
        "            state = next_state\n",
        "            \n",
        "            current_totoal_rewards.append(total_reward)\n",
        "            total_reward += pow(0.98,total_step)*reward# from action 1\n",
        "            \n",
        "            current_totoal_critic_rewards.append(total_critic_reward)\n",
        "            total_critic_reward += pow(0.98,total_step)*critic_reward\n",
        "            \n",
        "            \n",
        "            total_step += 1\n",
        "            \n",
        "            if done:\n",
        "                final_rewards.append(reward)\n",
        "                total_rewards.append(total_reward)\n",
        "           \n",
        "                for i in range(total_step):                  \n",
        "                  rewards.append((total_reward-current_totoal_rewards[i])/(pow(0.98,i)))\n",
        "                  critic_values.append((total_critic_reward-current_totoal_critic_rewards[i])/(pow(0.98,i)))\n",
        "                  advantages.append(rewards[i] - critic_values[i])\n",
        "\n",
        "                break\n",
        "\n",
        "    # 紀錄訓練過程\n",
        "    avg_total_reward = sum(total_rewards) / len(total_rewards)\n",
        "    avg_final_reward = sum(final_rewards) / len(final_rewards)\n",
        "    avg_total_rewards.append(avg_total_reward)\n",
        "    avg_final_rewards.append(avg_final_reward)\n",
        "    prg_bar.set_description(f\"Total: {avg_total_reward: 4.1f}, Final: {avg_final_reward: 4.1f}\")\n",
        "    \n",
        "    # 更新網路\n",
        "\n",
        "    rewards=np.asarray(rewards)\n",
        "\n",
        "    expected_average_rewards=sum(np.array(log_probs)*rewards)/ len(total_rewards)\n",
        "    \n",
        "    rewards=torch.from_numpy(rewards)-(expected_average_rewards)\n",
        "    rewards=rewards.detach().numpy()\n",
        "\n",
        "    rewards = (rewards - np.mean(rewards)) / (np.std(rewards) + 1e-9)  # 將 reward 正規標準化\n",
        "\n",
        "    agent.learn(torch.stack(log_probs), torch.from_numpy(rewards))\n",
        "    critic_agent.critic_learn(torch.stack(advantages))\n",
        "   "
      ],
      "execution_count": 0,
      "outputs": [
        {
          "output_type": "stream",
          "text": [
            "/usr/local/lib/python3.6/dist-packages/ipykernel_launcher.py:7: TqdmDeprecationWarning: This function will be removed in tqdm==5.0.0\n",
            "Please use `tqdm.notebook.tqdm` instead of `tqdm.tqdm_notebook`\n",
            "  import sys\n"
          ],
          "name": "stderr"
        },
        {
          "output_type": "display_data",
          "data": {
            "application/vnd.jupyter.widget-view+json": {
              "model_id": "18bdb55f1db540929255743133194e21",
              "version_minor": 0,
              "version_major": 2
            },
            "text/plain": [
              "HBox(children=(IntProgress(value=0, max=1000), HTML(value='')))"
            ]
          },
          "metadata": {
            "tags": []
          }
        },
        {
          "output_type": "stream",
          "text": [
            "\n"
          ],
          "name": "stdout"
        }
      ]
    },
    {
      "cell_type": "markdown",
      "metadata": {
        "id": "vNb_tuFYhKVK",
        "colab_type": "text"
      },
      "source": [
        "### 訓練結果\n",
        "\n",
        "訓練過程中，我們持續記下了 `avg_total_reward`，這個數值代表的是：每次更新 policy network 前，我們讓 agent 玩數個回合（episodes），而這些回合的平均 total rewards 為何。\n",
        "理論上，若是 agent 一直在進步，則所得到的 `avg_total_reward` 也會持續上升，直至 250 上下。\n",
        "若將其畫出來則結果如下："
      ]
    },
    {
      "cell_type": "code",
      "metadata": {
        "id": "wZYOI8H10SHN",
        "colab_type": "code",
        "outputId": "f8b3f1b9-63c1-4584-a2f8-a4b0582e1aee",
        "colab": {
          "base_uri": "https://localhost:8080/",
          "height": 281
        }
      },
      "source": [
        "plt.plot(avg_total_rewards)\n",
        "plt.title(\"Total Rewards\")\n",
        "plt.show()"
      ],
      "execution_count": 0,
      "outputs": [
        {
          "output_type": "display_data",
          "data": {
            "image/png": "[encoded data removed]",
            "text/plain": [
              "<Figure size 432x288 with 1 Axes>"
            ]
          },
          "metadata": {
            "tags": []
          }
        }
      ]
    },
    {
      "cell_type": "markdown",
      "metadata": {
        "id": "mV5jj4dThz0Y",
        "colab_type": "text"
      },
      "source": [
        "另外，`avg_final_reward` 代表的是多個回合的平均 final rewards，而 final reward 即是 agent 在單一回合中拿到的最後一個 reward。\n",
        "如果同學們還記得環境給予登月小艇 reward 的方式，便會知道，不論**回合的最後**小艇是不幸墜毀、飛出畫面、或是靜止在地面上，都會受到額外地獎勵或處罰。\n",
        "也因此，final reward 可被用來觀察 agent 的「著地」是否順利等資訊。"
      ]
    },
    {
      "cell_type": "code",
      "metadata": {
        "id": "txDZ5vlGWz5w",
        "colab_type": "code",
        "outputId": "64b564a4-bd61-4788-b5ca-b188c2a6e408",
        "colab": {
          "base_uri": "https://localhost:8080/",
          "height": 320
        }
      },
      "source": [
        "print(avg_total_rewards)\n",
        "plt.plot(avg_final_rewards)\n",
        "plt.title(\"Final Rewards\")\n",
        "plt.show()"
      ],
      "execution_count": 0,
      "outputs": [
        {
          "output_type": "stream",
          "text": [
            "[-84.45033192915466, -50.42384272869283, -41.171749808182675, -70.42637460892695, -67.98238350202932, -36.523674433089184, -47.636166724971886, -64.77905045640894, -79.22322382141661, -76.20946060110015, -59.63044977460679, -92.33022155892905, -69.31781220593813, -53.55053264532982, -70.26100497110328, -36.81838562048855, -56.63665354869479, -53.48978135825604, -34.82266317046633, -64.25862669588798, -70.0749475460307, -36.46360057498731, -28.4524548575617, -52.66169858161121, -50.60933669509389, -61.12297203383505, -71.964976700649, -34.51282774960082, -58.31267898620642, -64.85423408081314, -55.947004012557066, -54.386886081542514, -57.18909984746572, -40.16559223004343, -35.45096561525628, -51.78993683618263, -55.191274521509385, -102.00054755084187, -54.50545568906874, -27.984019243608298, -50.32277016878727, -44.397207081815864, -56.35546165050481, -32.268766634596865, -51.76681079830651, -48.84411380855304, -55.76531807662478, -48.993136808845776, -60.55659096503048, -55.16887683766267, -56.75406576279693, -52.77834910510294, -104.40077040543414, -37.93900734659526, -56.352104191324884, -52.287994955274655, -19.20980424565316, -54.309952968242726, -39.614305744585636, -34.042480509138564, -39.79116821227136, -46.605130827990756, -34.101747249992684, -35.668633930342956, -62.27352236965449, -39.1697045628259, -27.927371143000165, -40.49659512995926, -30.139613307447092, -53.0848446302772, -26.12259308658081, -29.78337325293169, -31.62491388389963, -54.90064214732545, -28.482946451173653, -59.34341437565729, -51.15573657396728, -37.71928006449275, -48.97922661239868, -62.871116520869315, -27.037265963847112, -88.08626169351979, -44.01645520028545, -33.798150527437606, -55.14281802265575, -42.243196796915406, -34.43711857878162, -47.443167258162056, -37.153842828460036, -27.022548630700783, -17.490196572283633, -31.162616328402414, -42.00939597949184, -30.329065773977504, -55.395960642031454, -38.364581351245, -61.857578671899816, -30.02863693546401, -55.549494845292564, -38.689187517504905, -28.18616061597246, -50.79938243703809, -48.85426200642269, -26.40828964229877, -41.344548496842116, -38.929669120691244, -55.247037893779826, -45.015610400582794, -57.33475518504965, -35.655210044180095, -57.12953206610969, -30.26384870321914, -47.314012407130015, -33.41583083442289, -33.73240268561439, -55.98491791244429, -46.13823260998752, -31.509722717680244, -60.36309992968224, -47.41079912356801, -21.082334894972263, -39.23843085783716, -23.113106693682447, -51.8287850151519, -39.28920033171518, -40.16407746591612, -37.001520769604255, -20.169129017481456, -26.993735215526367, -42.35509776896485, -48.792363166522534, -21.564902322139922, -45.934448446848975, -23.056246141474723, -52.033824458951834, -42.36731680051118, -41.40976508053463, -57.75077520675757, -69.9920520511035, -46.001862691541085, -51.304746613451584, -29.27709379618466, -31.549349064699904, -39.075703919491595, -22.45816309400565, -24.86676941808498, -25.071717439569273, -17.119307657776243, -22.454408112411112, -26.75756805972017, -32.672453441869486, -37.91947748598394, -27.05393423746863, -45.422565102613135, -30.461424308356776, -25.42729702015975, -33.81248764555828, -29.574789884845767, -17.209575086989616, -34.81968367555599, -30.5682655114951, -19.95253021586175, -29.960907555584676, -20.992846905633385, -30.795440138949992, -33.45845456638234, -30.97616813615814, -19.714036782316334, -38.23492450133141, -51.372104343337995, -39.40657880177436, -21.93491403291271, -24.041455242360257, -23.348844386073047, -15.266774051099938, -27.087419301451035, -43.26753730891327, -30.925902031862847, -38.79367811941769, -43.857303004133065, -25.676315223022414, -24.73642939741715, -30.545843349928617, -22.330224441842212, -22.60389264052105, -11.83867476311814, -25.934379942012033, -28.294239992831912, -31.97462823125357, -32.088195596835604, -31.751599793078263, -22.420601811432736, -13.779369813354839, -28.662387490455057, -11.44068926297977, -17.390097870071628, -16.924274377258033, -14.786348149495286, -34.94421443559922, -27.845781748667513, -46.40785595694425, -29.086079872847016, -45.8618962463258, -10.785264639513823, -23.61300080910576, -30.12651308960239, -27.886757127102747, -40.102569743465025, -6.285392311311595, -31.620167314078646, -7.667173705885531, -7.821601645638514, -34.872852246715325, -28.719182704319298, -26.566670919685635, -39.663360489606035, -2.5930044617892363, -14.88078268653897, -23.103243775920625, -21.97555681576599, -22.83533814710772, -26.387524474391785, -14.482549716960301, -28.191530515182613, -19.122274928093, -25.346526423760327, -24.513364274148753, -19.93020149288286, -10.950789080641687, -30.460020337306112, -15.733214639298277, -35.051597801931905, -14.807017190069539, -18.39803612976911, -16.468381239473594, -25.467112794440144, -17.147351918719362, -29.277008754229296, -22.555999066354616, -28.006642112352797, -31.105979302748313, -9.389305031585641, -25.25624204797841, -18.057894506412875, -29.596035837570287, -20.242488285660077, -12.196881139641743, -27.204923770670547, -15.074218757142168, -27.3124100764556, -18.112295037052355, -19.12427179022382, -28.215748809343516, -21.808571412862285, -18.66716858004758, -14.583958246654404, -6.200018966277351, -25.53081457519932, -9.498666035979266, -21.602783065035055, -18.552958993295903, -13.507563226333502, -15.190838425693375, -8.291344200864163, -7.290856174793101, -20.740915072537394, -9.194910938893909, -12.624309612099006, -5.784205324021461, -25.718839031841515, -22.009483355046218, -18.101276311737184, -5.209673691822114, -14.60511291601749, -21.645186371442964, -9.475320124083055, -8.792548223103504, -24.561978103238065, -37.15301993392556, -9.305168886071247, -6.827168897249346, -26.56866040442292, -6.3565553445017065, -9.058906013433804, -10.68050675900344, -3.6059835879728523, -10.07640734710498, -1.4585877086264454, -2.013329451139012, -4.39080982499077, -12.081743734301812, -14.039508670308024, -18.16848224962256, -16.710411885213475, -6.16308780054593, -0.7993303789994302, -14.964318919413785, -2.2929135949876747, 1.269602271048802, -4.1424036996249045, -14.189672524405609, 11.994606316500832, -2.2282811629906734, 0.9926321421092588, -6.092296314606057, -7.66046217026408, -2.012258886253445, -0.8786639392108597, 0.40813330150674354, -2.580520635041239, 2.7863155412874887, -6.118799326470895, -4.3316199821631285, 3.462159127490281, -3.202008610008894, 1.0632645543363854, -9.462948884877724, -2.472526544431217, 18.49497268261154, 2.4139488674193172, 5.919396690664175, -0.453350548414741, -6.557133815066516, 3.3645516347961446, 11.044094356832654, 4.508322325486034, 3.532528406504107, 2.8809453178917255, -0.42112741929221614, -0.5547945265575387, -6.703367152025018, 8.552624654601896, -5.069861131162475, 9.322208977075068, -11.936777130388416, -19.519916592594925, 3.6261829777681145, 14.045163428530788, 11.162930211199955, 1.7633962109383248, 1.673316298664006, 7.988016983398955, 7.962156144961739, 8.918886153337306, 6.813241027317083, 11.469400976165332, 7.587531939068041, 6.238290858557915, 14.97490720868343, 13.543961092881636, 7.25276476633811, 6.342477918595444, -1.2624747346796767, 5.1068101715535414, 7.470841781248201, 8.447008745863386, 14.943748068942233, 13.360373012229303, 9.303300158680496, 4.2487164921617335, 6.833843615188579, 10.471967685576889, 5.8724819225009695, 23.357652989640897, 6.217143666078449, 9.742654460757963, 14.133499531057534, 8.53145208341439, 1.5641945868732277, 8.742191493838849, 17.454051204871966, 5.556515133616478, 12.280588406543112, 11.306753752880274, 20.016826135517864, 17.52683135633535, 13.311792427424763, 19.571602186049972, 7.029068903727132, 12.576231482573665, 18.388234750919988, 7.700140190100251, 22.394920282091032, 11.176652457050466, 12.815604003199715, 14.908004847879326, 9.610729788125678, 14.68382225839576, 6.665894340805619, 10.385403012975692, 2.2158825410786567, 20.91993521824039, 14.345292993540927, 25.28207370446876, 15.915458835103644, 17.27702623013634, 18.57404691503503, 10.358971448258304, 17.2561999269712, 9.34825437643055, 17.081345086817496, 15.331022487188141, 15.509129295821115, 23.90293546400931, 27.414441419581028, 20.250993286070525, 15.663176321301743, 28.916253935106575, 17.294556977646707, 20.40367712655224, -1.0785245527844907, 18.26396838793403, 23.988106450208548, 26.90914687282671, 23.550100682088406, 14.621603606874322, 18.734065119850637, 15.806420908010912, 7.764569009236031, 20.636792178861214, 22.83000955559523, 13.9558151627898, 7.4876362351877574, 20.99075914310709, 16.963085146235045, 9.078442469512039, 11.920577987705617, 10.529013913076065, 3.880774165205383, 6.073305170289448, 13.720934502064107, 21.481801707702395, 21.835817426298412, 10.013272217514416, 20.615051581450935, 15.113742516773467, 17.43881572715192, 14.234573818161511, 20.923876932534583, 24.601622135174402, 15.327701211583701, 4.643315969183685, 24.66226905691474, 17.09839504764369, -10.12304324673342, -3.848017427782351, -7.844158700644092, 21.53880857192478, 7.521015753913099, 6.562345887763854, 0.3620033264442353, 17.021162649471297, 8.11971505723774, 10.933349828275908, 29.14007741853744, 28.001176270422018, 19.201376305168843, 17.77542357602437, 11.564279419186851, 16.661067144350632, 12.335274646568603, 11.441732472200403, 7.917940332411328, -12.42214362815433, -15.11739736798159, 5.010668650273464, 8.606564336196003, 12.79252035462399, 9.344942224138107, 15.454495993769365, 12.751546611774184, 20.06219626883388, -15.303725592974956, -9.947256943689329, 7.072698060072192, 21.53605400203387, 21.429272547423622, 28.470280440202423, -3.09669202098768, -23.422898026317405, -1.305189254396487, -10.900118014920327, -10.21195765525767, 0.08601940374166653, 1.1930418096644737, 8.433313156307198, 23.031275587252207, 19.481844488208417, 10.50616789646851, 13.329694487942229, 9.582602309721619, 10.96330454625746, 24.99314703605541, 20.231038625751033, 8.723629437727194, 10.782585356335234, 17.80393817421394, 21.38773597570026, 19.325703888801037, 13.570042830205495, 16.44504314632854, 26.6382680557487, 20.99918473222846, 2.9644958279902474, 11.095151199248994, 1.57884473429292, 22.938843741402806, 27.130400599482122, 13.633641418853287, 17.802179011586812, 15.984326471412341, 9.671207697835523, 8.846187464410429, 21.78168315891576, 16.25190391921272, 27.74885873835827, 15.18054634073906, 18.248078899374157, 18.867550274376747, 16.608970166661734, 23.68508478876532, 18.80341562907419, 8.585473482959483, 8.390328706510491, 21.409524462905704, 11.826172228993567, 20.7083732037378, 18.16197825304329, 21.230895328849208, 13.402220111820274, 20.78805628183818, 10.43589436889847, 8.628284637934794, 14.230317332142267, 4.013125967012991, 11.380644034441376, 12.04065526584504, 15.466803884040639, 13.16887492505401, 16.855245742202815, 23.956382490232528, 15.127900812930488, 20.182375493184168, 18.921718703239094, 22.19365405416952, 27.694507688007576, 30.151544650398602, 22.383725792114006, 29.095720177802214, 24.654093247829607, 24.0491880783662, 20.826589533296698, 25.178003086983345, 14.82578147238974, 10.511153722272825, 28.274068448471912, 7.3051526390335955, 16.706284957430476, -3.940982811186975, -78.19419712580142, -63.30524365964586, -48.048703904756145, -53.51303210952136, -56.28824517654864, -49.68764667830665, -59.25474649613936, -54.565678785287105, -28.34539804813938, -65.3379951884959, -42.58378470965282, -38.20274111791327, -39.332448467049645, -37.5264853115364, -55.381880826316475, -49.44971819407636, -42.42541589534004, -67.15228828537923, -24.081713007121067, -35.86607782899246, -25.66981116356652, -57.44263908925768, -54.16638592547285, -39.52934233620217, -34.82241096568784, -36.53030598081712, -58.19824243710924, -35.18725409657681, -46.77183808570552, -35.64104992786835, -48.69281877909297, -40.38699538590943, -40.43296584251364, -43.941864135185185, -33.450307057597016, -40.24622695888728, -34.5030058404852, -31.626849139008414, -28.20372742104803, -8.545609015908742, -25.33087108211692, -28.936147471314893, -29.20813696816856, -23.61348733391059, -46.673612429104864, -39.75254279722692, -40.24309737186989, -41.125200328330045, -26.529362974954864, -53.51136531854995, -32.64256279316776, -24.754616432864147, -29.922187179679632, -28.092259577627562, -30.17743317063027, -44.51824864347018, -27.61297586313509, -25.34363085655477, -25.225540395787053, -20.590981113970667, -21.546306644439078, -20.32875933302449, -25.651782459778143, -16.541407190518328, -12.968246863658294, -19.571609841137633, -16.108271615145476, -16.03972896777953, -19.907188782586626, -11.540081641113181, -24.32556372641999, -32.307995331143744, -19.916251881569387, -23.86886397806864, -26.056433177255705, -32.84084144052339, -17.10323114327356, -29.962396928581303, -25.387040346334523, -24.977037731457276, -30.568705066207816, -25.142671847906204, -40.66160169160879, -25.40856275584188, -20.82171155761982, -17.964594737111064, -18.785942871604334, -24.768275172965055, -28.955531280629874, -20.272447683534534, -15.401556559170421, -20.696321134253942, -21.42123213880695, -21.721802578900018, -16.268975043470384, -24.429903702690677, -13.945512207301437, -23.62623855567798, -7.830968318928413, -20.746496523664053, -11.288338794595026, -16.76267207177732, -4.901244363834964, -9.007708519241254, -8.700955335119929, -9.246948048631445, -4.063048916714882, -7.4656314699843, -5.456842983413182, -2.725756142935338, -12.69557761924273, -0.12732769465970223, -8.004646526658615, -10.43824917641607, -10.775328121736182, -14.072099919840644, -8.34045755575408, -4.744788802768833, -8.191039861357066, 3.2507047042407953, -10.297860000992403, -5.3963123732723375, -1.4440399428420612, -11.58793046043253, -12.516728946764838, -0.3772523608174957, 6.141449620864078, -13.58735151012726, -5.180881388899325, 1.6434659654591612, -35.291535010195574, -27.879044910299115, -20.93252322690855, -21.555796776852027, 14.171264545400524, -2.763482690238845, 2.7729507232409336, -6.284819062806351, -17.44174875404287, -4.594449169894658, 0.7297426097821134, -0.2467795742560881, 3.49900265648498, -7.215366460183667, 24.39433183668056, -18.217840410663165, -31.496685843313408, -28.759168783275964, -29.07121654085703, -11.378009272967354, 10.413609360769858, 3.5193067300821212, -0.20319540494839217, -0.7599161888994889, 11.766778206414344, 25.85897124112214, 22.07841868420507, 11.03137034635187, 16.658971263326173, 13.592589592792631, 23.691037832742534, 30.349918902271895, 22.930996811929713, 10.952771047502784, -6.88453788481876, 1.0845735825468652, 8.548336788119801, 5.619423638605512, -3.392623039386968, 17.436534452817263, -2.221067052466746, 5.048076679794518, 11.413369109587556, 1.7941394503712722, 13.064152572422035, 13.018283424226505, 15.158343653168895, 11.296298226855434, 2.1856731802392555, 2.6716162831368515, 12.58065214105275, 7.7675577275863805, 2.7426136131941887, -20.257000916112425, -19.392109306101073, -14.080703119185918, -33.18666954304371, -27.415177874896283, -20.31234775559062, -19.802869437581556, -20.037776694232633, -39.713922703579286, -19.878552730924945, -46.52963100315138, -32.2725222972837, -45.43675634907446, -7.693921509791318, -16.2898461782465, -3.2172624786861768, -2.6573567737201875, 19.186367757653905, 19.728328225245907, 20.85097951333534, 25.868908274162386, 21.99927823049264, 22.42195298211756, 20.560577709982635, 22.658896114077102, 17.20210689481184, 23.67666746147331, 18.88259231645327, 18.680622663577047, -3.448069947686334, 9.159492798432039, 12.29164072047413, -1.8519758955893244, 7.070980211709587, 8.857522644121971, 9.965410770759954, -6.7957660379157065, 14.79080492316264, -2.259885933457865, -8.063840500600467, -3.063627342266541, 10.321378821076921, 12.387863766995066, 13.02306204206991, 12.592532699529666, 17.306945300605456, 3.0123340860771206, 12.313052953764574, 9.560922431650734, 6.169647136260841, 18.487666192184875, 8.662837934634378, 2.1791908333730126, 10.37052733931899, 5.946870263480617, 10.047726048899523, -5.340055994383417, -3.876913463725445, -2.5896932527322902, -5.975103461230817, -5.7450446104700745, -4.872346641223543, 5.0148766365085455, -7.456244804771129, -3.5893254463189606, -11.047739771850814, -9.234300411470116, -11.372106625161333, -17.667055986238218, -0.5407646495090048, -6.659022369445532, 2.810818228268672, 2.975468458849344, -0.4380614027469168, 4.621934497122467, 2.2723625953721247, 12.984231546733763, 26.790384888980633, 18.620178050976698, 8.371491244914626, 6.899858889688763, 13.008129512330736, 22.03071974395136, 11.446374544102895, 23.360557808828997, 26.756764081129575, 23.48711048813511, 1.3665894580360913, 19.724674540477764, 19.635978118524008, 17.566736528809145, 20.520104397022457, 24.854387400695845, 20.124091295694768, -6.969684449647906, -5.556096642987652, -6.352225623400163, 2.37046577023731, -3.622115558762046, 10.901555681015418, -11.421370845336451, -12.075718460739978, -20.143213529935657, -11.039170760654034, -16.559912376737447, -23.847498767283845, -6.186649567224145, -16.652355662857094, 2.5836763755791012, -3.453854583825713, 18.786962335416714, 24.771613336902973, 14.762637751151857, -9.219662529268561, 7.645978549334503, -13.292651096372477, -18.22242830615179, 1.433372143637363, -4.5214873748713496, -17.071488574138474, -19.89465652247236, -3.1036356198840234, -3.548914825882761, 14.358069679473687, 18.884945664048775, -8.794161966242422, 5.812534732394179, -10.372597835930982, -23.87300402120088, -46.73828252562896, -21.611717624663576, -18.68430890910585, -29.289547100369884, -27.504009456481736, -15.446829196971034, 6.527588412229965, -0.1685594359406096, -8.076510780584282, -4.492847756312397, 6.778999112322036, 12.86690927000868, -0.17982217484582286, 9.7642689879872, -7.99191518233543, -11.220539778145596, 6.784964233154002, 9.408604430274561, -12.110922746647535, -29.891406864272614, -30.784275580406483, -50.615764407054144, -66.3998031951538, -69.3218401780897, -38.04260491457761, -108.36582009628951, -75.68694858325051, -109.86746494423664, -92.48475843550992, -78.98966161755166, -76.74751823184272, -92.54435889450835, -112.35547069511328, -58.94471781048992, -49.73084103562012, -67.37997031473796, -45.307990271425716, -12.121002462800845, -15.085886577469035, 3.5752651657174965, -24.241840468017244, -31.269357731907853, 1.1255744140688257, -4.8420110678331625, -7.043828600312966, -40.383316360421404, -10.384326821423247, -35.39193004096883, -12.130189965793187, 3.0557261024905644, -8.386357370762816, -24.106801611161295, -47.67286071869307, -48.64093109984618, -32.7576908457945, -20.425193102041533, -41.00493109682807, -21.012803859748683, -16.24273448389106, -32.69473015292895, -45.10484286086546, -49.22145570997897, -20.096309045473507, -5.281295923242085, -59.46176713197342, -21.131309670386436, -40.810555327170235, -104.92213012223658, -116.07701640535598, -45.234307049447445, -61.021996392545816, -43.129101713341946, -23.055930785970553, -49.68273466750587, -18.508872214603524, -6.8687797972680285, -1.5243700167659673, -4.141915399070791, -12.715763561078997, -11.763193032536833, -4.570724667660888, -6.414033924294276, -8.229955709599043, -8.036691087053036, -13.039688755167868, -3.9020271132364286, -53.833514524235895, -44.43338852359919, -46.90677050242415, -26.076533529422072, -6.786519344092378, 4.335320309969757, -14.496422771759956, -16.836804426260073, -2.463519044999784, -13.041666025541677, 23.277275146501477, 16.253012322584862, 11.300013449914774, 18.663663835436157, -2.9221204730392913, -9.692393574632543, -3.9649786905408853, -10.748862085180434, 12.219967279745074, 12.3650980170629, 23.579141424779603, 17.126732205267018, 26.0916741135595, 18.887614137899625, 26.290279605077625, 21.719283465328452, 25.42923914832594, 19.835902764336243, 15.752232279366657, 22.36116845663168, -4.875996958112127, -15.600397491656375, -12.40732477598643, -20.98691207419757, -3.1901914981267874, 1.8571536104702737, 16.626465087571393, -0.16396314624905947, -11.24272321717378, -7.938523395671448, -10.51926726016325, 1.911926819614024, 2.86586989430416]\n"
          ],
          "name": "stdout"
        },
        {
          "output_type": "display_data",
          "data": {
            "image/png": "[encoded data removed]",
            "text/plain": [
              "<Figure size 432x288 with 1 Axes>"
            ]
          },
          "metadata": {
            "tags": []
          }
        }
      ]
    },
    {
      "cell_type": "markdown",
      "metadata": {
        "id": "u2HaGRVEYGQS",
        "colab_type": "text"
      },
      "source": [
        "## 測試"
      ]
    },
    {
      "cell_type": "code",
      "metadata": {
        "id": "5yFuUKKRYH73",
        "colab_type": "code",
        "outputId": "e10877b0-15ff-40df-9ee2-f20efc6ff1ba",
        "colab": {
          "base_uri": "https://localhost:8080/",
          "height": 269
        }
      },
      "source": [
        "agent.network.eval()  # 測試前先將 network 切換為 evaluation 模式\n",
        "\n",
        "state = env.reset()\n",
        "\n",
        "img = plt.imshow(env.render(mode='rgb_array'))\n",
        "\n",
        "total_reward = 0\n",
        "\n",
        "done = False\n",
        "while not done:\n",
        "    action, _ = agent.sample(state)\n",
        "    state, reward, done, _ = env.step(action)\n",
        "\n",
        "    total_reward += reward\n",
        "\n",
        "    img.set_data(env.render(mode='rgb_array'))\n",
        "    display.display(plt.gcf())\n",
        "    display.clear_output(wait=True)"
      ],
      "execution_count": 0,
      "outputs": [
        {
          "output_type": "display_data",
          "data": {
            "image/png": "[encoded data removed]",
            "text/plain": [
              "<Figure size 432x288 with 1 Axes>"
            ]
          },
          "metadata": {
            "tags": []
          }
        }
      ]
    },
    {
      "cell_type": "code",
      "metadata": {
        "id": "Aex7mcKr0J01",
        "colab_type": "code",
        "outputId": "67ac7766-15c1-43fc-d60f-7dd4e8f00a69",
        "colab": {
          "base_uri": "https://localhost:8080/",
          "height": 36
        }
      },
      "source": [
        "print(total_reward)"
      ],
      "execution_count": 0,
      "outputs": [
        {
          "output_type": "stream",
          "text": [
            "47.50300329500311\n"
          ],
          "name": "stdout"
        }
      ]
    },
    {
      "cell_type": "markdown",
      "metadata": {
        "id": "wUBtYXG2eaqf",
        "colab_type": "text"
      },
      "source": [
        "## 參考資料\n",
        "\n",
        "以下是一些有用的參考資料。\n",
        "建議同學們實做前，可以先參考第一則連結的上課影片。\n",
        "在影片的最後有提到兩個有用的 Tips，這對於本次作業的實做非常有幫助。\n",
        "\n",
        "- [DRL Lecture 1: Policy Gradient (Review)](https://youtu.be/z95ZYgPgXOY)\n",
        "- [ML Lecture 23-3: Reinforcement Learning (including Q-learning) start at 30:00](https://youtu.be/2-JNBzCq77c?t=1800)\n",
        "- [Lecture 7: Policy Gradient, David Silver](http://www0.cs.ucl.ac.uk/staff/d.silver/web/Teaching_files/pg.pdf)\n"
      ]
    }
  ]
}
